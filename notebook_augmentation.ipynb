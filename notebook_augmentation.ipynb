{
 "cells": [
  {
   "cell_type": "code",
   "execution_count": null,
   "outputs": [],
   "source": [
    "import torch\n",
    "import torch.nn as nn\n",
    "import numpy as np\n",
    "import torchaudio\n",
    "from torch.utils.data import DataLoader\n",
    "\n",
    "import os, shutil, math\n",
    "import time\n",
    "from datetime import datetime\n",
    "from itertools import islice\n",
    "from typing import List\n",
    "import IPython\n",
    "\n",
    "from dataset.dcase_dataset import DCASE_SELD_Dataset, InfiniteDataLoader, _get_padders\n",
    "from evaluation.dcase2022_metrics import cls_compute_seld_results\n",
    "from evaluation.evaluation_dcase2022 import write_output_format_file, get_accdoa_labels, get_multi_accdoa_labels, determine_similar_location, all_seld_eval\n",
    "from solver import Solver\n",
    "from feature import my_feature\n",
    "\n",
    "import augmentation.spatial_mixup as spm\n",
    "import torch_audiomentations as t_aug\n",
    "from parameters import get_parameters\n",
    "import utils\n",
    "import plots\n",
    "import seaborn as sns\n",
    "sns.set_theme(context='notebook', style='darkgrid', palette='deep', font='sans-serif',\n",
    "              font_scale=1, color_codes=True, rc={'pcolor.shading': 'auto'})\n",
    "\n",
    "%load_ext autoreload\n",
    "%autoreload 2"
   ],
   "metadata": {
    "collapsed": false,
    "pycharm": {
     "name": "#%%\n"
    }
   }
  },
  {
   "cell_type": "code",
   "execution_count": null,
   "outputs": [],
   "source": [
    "utils.seed_everything(1234)\n",
    "\n",
    "def get_audiomentations(p=0.5, fs=24000):\n",
    "    from augmentation.spliceout import SpliceOut\n",
    "    # Initialize augmentation callable\n",
    "    apply_augmentation = t_aug.SomeOf((2, None),\n",
    "        transforms=[\n",
    "            t_aug.Gain(p=p, min_gain_in_db=-15.0, max_gain_in_db=5.0, mode='per_example', p_mode='per_example'),\n",
    "            t_aug.PolarityInversion(p=p, mode='per_example', p_mode='per_example'),\n",
    "            t_aug.PitchShift(p=p, min_transpose_semitones=-1.5, max_transpose_semitones=1.5, sample_rate=fs, mode='per_example', p_mode='per_example'),\n",
    "            t_aug.AddColoredNoise(p=p, min_snr_in_db=6.0, max_snr_in_db=30.0, min_f_decay=-2.0, max_f_decay=2.0, sample_rate=fs, mode='per_example', p_mode='per_example'),\n",
    "            t_aug.BandStopFilter(p=p, min_center_frequency=400, max_center_frequency=4000, min_bandwidth_fraction=0.5, max_bandwidth_fraction=1.1, sample_rate=fs, p_mode='per_example'),\n",
    "            t_aug.LowPassFilter(p=p,  min_cutoff_freq=1000, max_cutoff_freq=5000, sample_rate=fs, p_mode='per_example'),\n",
    "            t_aug.HighPassFilter(p=p, min_cutoff_freq=250, max_cutoff_freq=1500, sample_rate=fs, p_mode='per_example'),\n",
    "            t_aug.BandPassFilter(p=p, min_center_frequency=400, max_center_frequency=4000, min_bandwidth_fraction=0.5, max_bandwidth_fraction=1.5, sample_rate=fs, p_mode='per_example'),\n",
    "            #SpliceOut(p=0.5, num_time_intervals=8, max_width=400, sample_rate=fs, p_mode='per_example')\n",
    "        ]\n",
    "    )\n",
    "\n",
    "    return apply_augmentation"
   ],
   "metadata": {
    "collapsed": false,
    "pycharm": {
     "name": "#%%\n"
    }
   }
  },
  {
   "cell_type": "code",
   "execution_count": null,
   "outputs": [],
   "source": [
    "config = {\n",
    "    'dataset_root': './data/data_dcase2022',\n",
    "    'dataset_list': 'dcase2022_devtrain_debug.txt',\n",
    "    'dataset_chunk_size': math.floor(10 * 24000),\n",
    "    'order_output': 1,\n",
    "    'fs': 24000,\n",
    "}\n",
    "\n",
    "dataset = DCASE_SELD_Dataset(directory_root=config['dataset_root'],\n",
    "                             list_dataset=config['dataset_list'],\n",
    "                             chunk_size=config['dataset_chunk_size'],\n",
    "                             chunk_mode='random',\n",
    "                             trim_wavs=20,\n",
    "                             multi_track=False,\n",
    "                             num_classes=13,\n",
    "                             labels_backend='sony',\n",
    "                             return_fname=False,\n",
    "                             ignore_labels=True)\n",
    "\n",
    "audio, _ = dataset[1]\n",
    "ids = [1]*5\n",
    "batch = torch.stack([audio for audio, _ in [dataset[id] for id in ids]], dim=0)  # Batch of random slices\n"
   ],
   "metadata": {
    "collapsed": false,
    "pycharm": {
     "name": "#%%\n"
    }
   }
  },
  {
   "cell_type": "code",
   "execution_count": null,
   "outputs": [],
   "source": [
    "plots.plot_waveform(audio, config['fs'], title='Input')\n",
    "print(audio.shape)\n",
    "signal_in_binaural = utils.sh_sig_to_binaural(audio, order=config['order_output'], \n",
    "                                              device='cpu', sofa='data/HRIR_L2354.sofa', do_normalize=False)\n",
    "IPython.display.display(IPython.display.Audio(signal_in_binaural[0, ...].numpy(), rate=config['fs']))"
   ],
   "metadata": {
    "collapsed": false,
    "pycharm": {
     "name": "#%%\n"
    }
   }
  },
  {
   "cell_type": "code",
   "execution_count": null,
   "outputs": [],
   "source": [
    "augment_transform = get_audiomentations()\n",
    "signal_out_binaural = augment_transform(signal_in_binaural)\n",
    "signal_out_binaural = signal_out_binaural['samples']\n",
    "print(signal_out_binaural)\n",
    "IPython.display.display(IPython.display.Audio(signal_out_binaural[0, ...].numpy(), rate=config['fs']))"
   ],
   "metadata": {
    "collapsed": false,
    "pycharm": {
     "name": "#%%\n"
    }
   }
  },
  {
   "cell_type": "markdown",
   "source": [
    "## Random Augmentations to single file ##\n",
    "\n",
    "This is the basic method how to apply a selection of random augmentions to a file.\n",
    "Do note that we are limiting the output afterwards to remove any clipping.\n",
    "\n",
    "#### NOTE:\n",
    "PitchShifting can change the spatial characteristics becuase it affects the phase weird soemtimes:\n",
    "\n",
    "https://github.com/KentoNishi/torch-pitch-shift/blob/master/torch_pitch_shift/main.py\n"
   ],
   "metadata": {
    "collapsed": false,
    "pycharm": {
     "name": "#%% md\n"
    }
   }
  },
  {
   "cell_type": "code",
   "execution_count": null,
   "outputs": [],
   "source": [
    "p, fs, aug_min, aug_max = 1, 24000, 2, 4\n",
    "apply_augmentation = t_aug.SomeOf((aug_min, aug_max),\n",
    "    transforms=[\n",
    "        t_aug.Gain(p=p, min_gain_in_db=-15.0, max_gain_in_db=6.0, mode='per_example', p_mode='per_example'),\n",
    "        t_aug.PolarityInversion(p=p, mode='per_example', p_mode='per_example'),\n",
    "        t_aug.PitchShift(p=p, min_transpose_semitones=-1.5, max_transpose_semitones=1.5, sample_rate=fs, mode='per_example', p_mode='per_example'),\n",
    "        t_aug.AddColoredNoise(p=p, min_snr_in_db=2.0, max_snr_in_db=30.0, min_f_decay=-2.0, max_f_decay=2.0, sample_rate=fs, mode='per_example', p_mode='per_example'),\n",
    "        t_aug.BandStopFilter(p=p, min_center_frequency=400, max_center_frequency=4000, min_bandwidth_fraction=0.5, max_bandwidth_fraction=1.1, sample_rate=fs, p_mode='per_example'),\n",
    "        t_aug.LowPassFilter(p=p,  min_cutoff_freq=1000, max_cutoff_freq=5000, sample_rate=fs, p_mode='per_example'),\n",
    "        t_aug.HighPassFilter(p=p, min_cutoff_freq=250, max_cutoff_freq=1500, sample_rate=fs, p_mode='per_example'),\n",
    "        t_aug.BandPassFilter(p=p, min_center_frequency=400, max_center_frequency=4000, min_bandwidth_fraction=0.5, max_bandwidth_fraction=1.5, sample_rate=fs, p_mode='per_example'),\n",
    "        t_aug.SpliceOut(p=p, num_time_intervals=100, max_width=100, sample_rate=fs, p_mode='per_example')\n",
    "    ]\n",
    ")\n",
    "\n",
    "class Limiter(nn.Sequential):\n",
    "    def __init__(self, threshold=1):\n",
    "        super().__init__()\n",
    "        self.threshold = threshold\n",
    "    def forward(self, x):\n",
    "        mask = torch.abs(x) > self.threshold\n",
    "        x[mask] = 1.0\n",
    "        return x\n",
    "\n",
    "stft = nn.Sequential(\n",
    "    torchaudio.transforms.Spectrogram(n_fft=512,\n",
    "                                 hop_length=512),\n",
    "    torchaudio.transforms.AmplitudeToDB())"
   ],
   "metadata": {
    "collapsed": false,
    "pycharm": {
     "name": "#%%\n"
    }
   }
  },
  {
   "cell_type": "code",
   "execution_count": null,
   "outputs": [],
   "source": [
    "audio_aug = apply_augmentation(audio[None, ...], sample_rate=24000)\n",
    "audio_aug = audio_aug['samples']\n",
    "limiter = Limiter()\n",
    "audio_aug = limiter(audio_aug)[0] \n",
    "print(audio_aug.shape)\n",
    "signal_out_binaural = utils.sh_sig_to_binaural(audio_aug, order=config['order_output'], \n",
    "                                               device='cpu', sofa='data/HRIR_L2354.sofa', do_normalize=False)\n",
    "plots.plot_waveform(audio_aug, config['fs'], title='Augmented')\n",
    "#plots.sh_rms_map(audio, INDB=False, title='Input')\n",
    "#plots.sh_rms_map(audio_aug, INDB=False, title='Augmented')\n",
    "#plots.plot_specgram_features(stft(audio), sample_rate=fs)\n",
    "#plots.plot_specgram_features(stft(audio_aug), sample_rate=fs)\n",
    "IPython.display.display(IPython.display.Audio(signal_out_binaural[0, ...].numpy(), rate=config['fs'], normalize=True))"
   ],
   "metadata": {
    "collapsed": false,
    "pycharm": {
     "name": "#%%\n"
    }
   }
  },
  {
   "cell_type": "code",
   "execution_count": null,
   "outputs": [],
   "source": [
    "plots.sh_rms_map(audio[:, 0:fs*2], INDB=False, title='Input')\n",
    "plots.sh_rms_map(audio_aug[:, 0:fs*2], INDB=False, title='Augmented')\n",
    "\n",
    "#plots.plot_specgram_features(stft(audio_aug), sample_rate=fs)signal_out_binaural.shape"
   ],
   "metadata": {
    "collapsed": false,
    "pycharm": {
     "name": "#%%\n"
    }
   }
  },
  {
   "cell_type": "markdown",
   "source": [
    "## Batch processing\n",
    "\n",
    "Here I test how the augmentations are applied when using a full batch.\n",
    "Each instance in the batch should get a different set of augmentations."
   ],
   "metadata": {
    "collapsed": false,
    "pycharm": {
     "name": "#%% md\n"
    }
   }
  },
  {
   "cell_type": "code",
   "execution_count": null,
   "outputs": [],
   "source": [
    "batch_aug = apply_augmentation(batch, sample_rate=24000)\n",
    "batch_aug = batch_aug['samples']\n",
    "limiter = Limiter()\n",
    "print(batch_aug.shape)\n",
    "batch_aug = limiter(batch_aug)\n",
    "\n"
   ],
   "metadata": {
    "collapsed": false,
    "pycharm": {
     "name": "#%%\n"
    }
   }
  },
  {
   "cell_type": "code",
   "execution_count": null,
   "outputs": [],
   "source": [
    "batch_id = 4   # Select one instance from the batch, and listen to it\n",
    "audio_aug_single = batch_aug[batch_id] \n",
    "print(audio_aug_single.shape)\n",
    "signal_out_binaural = utils.sh_sig_to_binaural(audio_aug_single, order=config['order_output'], \n",
    "                                              device='cpu', sofa='data/HRIR_L2354.sofa', do_normalize=False)\n",
    "plots.plot_waveform(audio_aug_single, config['fs'], title='Augmented')\n",
    "IPython.display.display(IPython.display.Audio(signal_out_binaural[0, ...].numpy(), rate=config['fs'], normalize=True))"
   ],
   "metadata": {
    "collapsed": false,
    "pycharm": {
     "name": "#%%\n"
    }
   }
  },
  {
   "cell_type": "code",
   "execution_count": null,
   "outputs": [],
   "source": [
    "plots.sh_rms_map(batch[batch_id, :, 0:fs*2], INDB=False, title='Input')\n",
    "plots.sh_rms_map(audio_aug_single[:, 0:fs*2], INDB=False, title='Augmented')"
   ],
   "metadata": {
    "collapsed": false,
    "pycharm": {
     "name": "#%%\n"
    }
   }
  },
  {
   "cell_type": "code",
   "execution_count": null,
   "outputs": [],
   "source": [],
   "metadata": {
    "collapsed": false,
    "pycharm": {
     "name": "#%%\n"
    }
   }
  },
  {
   "cell_type": "code",
   "execution_count": 17,
   "metadata": {},
   "outputs": [
    {
     "data": {
      "image/png": "[encoded data removed]",
      "text/plain": [
       "<Figure size 432x288 with 2 Axes>"
      ]
     },
     "metadata": {},
     "output_type": "display_data"
    },
    {
     "data": {
      "image/png": "[encoded data removed]",
      "text/plain": [
       "<Figure size 432x288 with 2 Axes>"
      ]
     },
     "metadata": {},
     "output_type": "display_data"
    }
   ],
   "source": [
    "plots.sh_rms_map(batch[batch_id, :, 0:fs*2], INDB=False, title='Input')\n",
    "plots.sh_rms_map(audio_aug_single[:, 0:fs*2], INDB=False, title='Augmented')"
   ]
  },
  {
   "cell_type": "code",
   "execution_count": null,
   "metadata": {},
   "outputs": [],
   "source": []
  }
 ],
 "metadata": {
  "kernelspec": {
   "display_name": "Python 3 (ipykernel)",
   "language": "python",
   "name": "python3"
  },
  "language_info": {
   "codemirror_mode": {
    "name": "ipython",
    "version": 3
   },
   "file_extension": ".py",
   "mimetype": "text/x-python",
   "name": "python",
   "nbconvert_exporter": "python",
   "pygments_lexer": "ipython3",
   "version": "3.7.13"
  }
 },
 "nbformat": 4,
 "nbformat_minor": 4
}